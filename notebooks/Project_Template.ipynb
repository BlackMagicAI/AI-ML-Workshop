{
  "nbformat": 4,
  "nbformat_minor": 0,
  "metadata": {
    "colab": {
      "name": "Project_Template.ipynb",
      "version": "0.3.2",
      "provenance": [],
      "toc_visible": true,
      "include_colab_link": true
    },
    "kernelspec": {
      "name": "python3",
      "display_name": "Python 3"
    }
  },
  "cells": [
    {
      "cell_type": "markdown",
      "metadata": {
        "id": "view-in-github",
        "colab_type": "text"
      },
      "source": [
        "<a href=\"https://colab.research.google.com/github/mtedder/AI-ML-Workshop/blob/master/notebooks/Project_Template.ipynb\" target=\"_parent\"><img src=\"https://colab.research.google.com/assets/colab-badge.svg\" alt=\"Open In Colab\"/></a>"
      ]
    },
    {
      "metadata": {
        "id": "PMpf0l82p4Cl",
        "colab_type": "text"
      },
      "cell_type": "markdown",
      "source": [
        "#Project Title"
      ]
    },
    {
      "metadata": {
        "id": "B_-J1gNip1Ft",
        "colab_type": "code",
        "colab": {}
      },
      "cell_type": "code",
      "source": [
        "#Uncommet this code if you need colboratory tensorflow version to match the versions available in google Cloud ML\n",
        "#!pip install tensorflow==1.12.0"
      ],
      "execution_count": 0,
      "outputs": []
    },
    {
      "metadata": {
        "id": "z7bOasUyqOjD",
        "colab_type": "text"
      },
      "cell_type": "markdown",
      "source": [
        "##1. Imports"
      ]
    },
    {
      "metadata": {
        "id": "kSazlWfeqXWp",
        "colab_type": "text"
      },
      "cell_type": "markdown",
      "source": [
        "##2. Data Preparation"
      ]
    },
    {
      "metadata": {
        "id": "zXzZvxjBqdgr",
        "colab_type": "text"
      },
      "cell_type": "markdown",
      "source": [
        "##3. Feature Extraction"
      ]
    },
    {
      "metadata": {
        "id": "ZaOsWN5LqlEh",
        "colab_type": "text"
      },
      "cell_type": "markdown",
      "source": [
        "##4. Build Model"
      ]
    },
    {
      "metadata": {
        "id": "spPxtYwrq_Y6",
        "colab_type": "text"
      },
      "cell_type": "markdown",
      "source": [
        "##5. Train Model"
      ]
    },
    {
      "metadata": {
        "id": "L0PQzZkUrEyQ",
        "colab_type": "text"
      },
      "cell_type": "markdown",
      "source": [
        "##6. Evaluate Model"
      ]
    },
    {
      "metadata": {
        "id": "FGqTU0qgrK1b",
        "colab_type": "text"
      },
      "cell_type": "markdown",
      "source": [
        "##7. Inference – Make Predictions"
      ]
    },
    {
      "metadata": {
        "id": "TXbxFWkara2H",
        "colab_type": "text"
      },
      "cell_type": "markdown",
      "source": [
        "#Deploy to ML Cloud Engine"
      ]
    },
    {
      "metadata": {
        "id": "0I4lmrdhrj77",
        "colab_type": "text"
      },
      "cell_type": "markdown",
      "source": [
        "##8. Prepare Model for Saving"
      ]
    },
    {
      "metadata": {
        "id": "7d5zK2yXrr27",
        "colab_type": "text"
      },
      "cell_type": "markdown",
      "source": [
        "##9. Upload model to existing GCS bucket"
      ]
    },
    {
      "metadata": {
        "id": "WgknoLjKrxNd",
        "colab_type": "text"
      },
      "cell_type": "markdown",
      "source": [
        "##Upload GOOGLE_APPLICATION_CREDENTIALS (Optional)"
      ]
    },
    {
      "metadata": {
        "id": "2WmBhdx0sShg",
        "colab_type": "code",
        "colab": {}
      },
      "cell_type": "code",
      "source": [
        "#Upload GOOGLE_APPLICATION_CREDENTIALS json file from local computer and save to this notebook\n",
        "from google.colab import files\n",
        "\n",
        "uploaded = files.upload()\n",
        "\n",
        "for fn in uploaded.keys():\n",
        "  print('User uploaded file \"{name}\" with length {length} bytes'.format(\n",
        "      name=fn, length=len(uploaded[fn])))"
      ],
      "execution_count": 0,
      "outputs": []
    },
    {
      "metadata": {
        "id": "RnpxrQ32r65B",
        "colab_type": "text"
      },
      "cell_type": "markdown",
      "source": [
        "##Set GOOGLE_APPLICATION_CREDENTIALS environment variable (Optional)"
      ]
    },
    {
      "metadata": {
        "id": "7G1JENivsXNO",
        "colab_type": "code",
        "colab": {}
      },
      "cell_type": "code",
      "source": [
        "import os\n",
        "os.environ['GOOGLE_APPLICATION_CREDENTIALS'] = #INSERT YOUR CREDENTIALS FILENAME HERE!!"
      ],
      "execution_count": 0,
      "outputs": []
    },
    {
      "metadata": {
        "id": "7c4GZ6VxsNkY",
        "colab_type": "text"
      },
      "cell_type": "markdown",
      "source": [
        "##10. Request online prediction from deployed model"
      ]
    }
  ]
}