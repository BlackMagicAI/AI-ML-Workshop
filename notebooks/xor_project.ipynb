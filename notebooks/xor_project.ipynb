{
  "nbformat": 4,
  "nbformat_minor": 0,
  "metadata": {
    "colab": {
      "name": "xor_project.ipynb",
      "version": "0.3.2",
      "provenance": [],
      "collapsed_sections": [],
      "toc_visible": true,
      "include_colab_link": true
    },
    "kernelspec": {
      "name": "python3",
      "display_name": "Python 3"
    }
  },
  "cells": [
    {
      "cell_type": "markdown",
      "metadata": {
        "id": "view-in-github",
        "colab_type": "text"
      },
      "source": [
        "<a href=\"https://colab.research.google.com/github/mtedder/AI-ML-Workshop/blob/master/notebooks/xor_project.ipynb\" target=\"_parent\"><img src=\"https://colab.research.google.com/assets/colab-badge.svg\" alt=\"Open In Colab\"/></a>"
      ]
    },
    {
      "metadata": {
        "id": "2TvWRvDUb1uS",
        "colab_type": "text"
      },
      "cell_type": "markdown",
      "source": [
        "#XOR Keras Project\n",
        "\n",
        "[Ref Docs 1](https://blog.thoughtram.io/machine-learning/2016/11/02/understanding-XOR-with-keras-and-tensorlow.html)\n",
        "\n",
        "[Ref Docs 2](https://github.com/brianschardt/xor_keras_tensorflow_serving/blob/master/index.py)\n",
        "\n",
        "![alt text](https://image.slidesharecdn.com/electroniccircuits-090706070731-phpapp01/95/electronic-circuits-32-728.jpg?cb=1246864077)"
      ]
    },
    {
      "metadata": {
        "id": "81fIB24wcYnk",
        "colab_type": "code",
        "colab": {}
      },
      "cell_type": "code",
      "source": [
        "#Uncommet this code if you need colboratory tensorflow version to match the versions available in google Cloud ML. NOT required for this example\n",
        "#!pip install tensorflow==1.12.0"
      ],
      "execution_count": 0,
      "outputs": []
    },
    {
      "metadata": {
        "id": "DJj5UnL4cApy",
        "colab_type": "text"
      },
      "cell_type": "markdown",
      "source": [
        "##1. Imports"
      ]
    },
    {
      "metadata": {
        "id": "eI_l2LBAbsgM",
        "colab_type": "code",
        "colab": {}
      },
      "cell_type": "code",
      "source": [
        "import os\n",
        "import tensorflow as tf\n",
        "\n",
        "import os\n",
        "#import tensorflow as tf\n",
        "import numpy as np\n",
        "import pandas as pd # data processing, CSV file I/O (e.g. pd.read_csv)\n",
        "#from tensorflow import keras\n",
        "\n",
        "from tensorflow.python.saved_model import builder as saved_model_builder\n",
        "from tensorflow.python.saved_model import tag_constants, signature_constants, signature_def_utils_impl, utils\n",
        "\n",
        "from keras.models import Sequential\n",
        "from keras.layers.core import Dense, Dropout, Activation\n",
        "from keras.optimizers import SGD #Stochastic gradient descent optimizer\n",
        "\n",
        "import matplotlib.pyplot as plt"
      ],
      "execution_count": 0,
      "outputs": []
    },
    {
      "metadata": {
        "id": "b-tKmnxUcu1g",
        "colab_type": "text"
      },
      "cell_type": "markdown",
      "source": [
        "##Version Info"
      ]
    },
    {
      "metadata": {
        "id": "Cehzl6o4c16W",
        "colab_type": "code",
        "colab": {}
      },
      "cell_type": "code",
      "source": [
        "#!python --version\n",
        "# print(\"Tensorflow version\" + tf.__version__)"
      ],
      "execution_count": 0,
      "outputs": []
    },
    {
      "metadata": {
        "id": "yq5tkN92c75c",
        "colab_type": "text"
      },
      "cell_type": "markdown",
      "source": [
        "##2. Data Preparation\n",
        "Ref:"
      ]
    },
    {
      "metadata": {
        "id": "esZB324AfN7d",
        "colab_type": "code",
        "colab": {}
      },
      "cell_type": "code",
      "source": [
        "#Exhaustion of Different Possibilities\n",
        "X = np.array([\n",
        "    [0,0],\n",
        "    [0,1],\n",
        "    [1,0],\n",
        "    [1,1]\n",
        "])"
      ],
      "execution_count": 0,
      "outputs": []
    },
    {
      "metadata": {
        "id": "wrzO1bAUd8Uh",
        "colab_type": "text"
      },
      "cell_type": "markdown",
      "source": [
        "##3. Feature Extraction\n",
        "Ref:"
      ]
    },
    {
      "metadata": {
        "id": "effzeOaqc-7p",
        "colab_type": "code",
        "colab": {}
      },
      "cell_type": "code",
      "source": [
        "#Create dataframe version of x (features) from np array\n",
        "x_df = pd.DataFrame({'x1':X[:,0],'x2':X[:,1]})\n",
        "print(x_df)\n",
        "\n",
        "#Return values of the different inputs\n",
        "Y = np.array([[0],[1],[1],[0]])\n",
        "\n",
        "#Create dataframe version of x (labels)\n",
        "y_df = pd.DataFrame({'y':Y[:,0]})\n",
        "print(y_df)"
      ],
      "execution_count": 0,
      "outputs": []
    },
    {
      "metadata": {
        "id": "iVWAp-mNfVBa",
        "colab_type": "text"
      },
      "cell_type": "markdown",
      "source": [
        "##4. Build Model\n",
        "Ref:\n",
        "![Example Model](https://i.stack.imgur.com/S52yR.png)"
      ]
    },
    {
      "metadata": {
        "id": "Zivbp-N7eGy4",
        "colab_type": "code",
        "colab": {}
      },
      "cell_type": "code",
      "source": [
        "#https://www.tensorflow.org/api_docs/python/tf/metrics/accuracy\n",
        "#https://www.tensorflow.org/api_docs/python/tf/keras/models\n",
        "#https://www.tensorflow.org/api_docs/python/tf/keras/models/Sequential\n",
        "#Specify the type of layers to use Densely-connected layer class - https://www.tensorflow.org/api_docs/python/tf/layers/Dense\n",
        "#SGD - https://keras.io/optimizers/\n",
        "#https://www.tensorflow.org/api_docs/python/tf/keras/models/Sequential#compile\n",
        "#https://keras.io/backend/#using-the-abstract-keras-backend-to-write-new-code\n",
        "sess = tf.Session()\n",
        "from keras import backend as K\n",
        "K.set_session(sess)\n",
        "K.set_learning_phase(0) #all new operations will be in test mode from now on - The learning phase flag is a bool tensor (0 = test, 1 = train) to be passed as input to any Keras function that uses a different behavior at train time and test time\n",
        "\n",
        "#Create XOR Model\n",
        "#Create Model\n",
        "#Model - groups layers into an object with training and inference features.\n",
        "#Sequential - Linear stack of layers.\n",
        "model = Sequential()\n",
        "model.add(Dense(8, input_dim=2))\n",
        "model.add(Activation('tanh'))\n",
        "model.add(Dense(1))\n",
        "model.add(Activation('sigmoid'))\n",
        "sgd = SGD(lr=0.1)\n",
        "#binary_accuracy = the frequency with which predictions matches labels\n",
        "model.compile(loss='mse', optimizer=sgd, metrics=['binary_accuracy'])"
      ],
      "execution_count": 0,
      "outputs": []
    },
    {
      "metadata": {
        "id": "GGq_jHwifoSd",
        "colab_type": "text"
      },
      "cell_type": "markdown",
      "source": [
        "##5. Train Model\n",
        "Ref:"
      ]
    },
    {
      "metadata": {
        "id": "89hKBrWjfqae",
        "colab_type": "code",
        "colab": {}
      },
      "cell_type": "code",
      "source": [
        "#Call the model.fit function\n",
        "#Train using fit which Trains the model for a fixed number of epochs (iterations on a dataset) - https://www.tensorflow.org/api_docs/python/tf/keras/models/Model#fit\n",
        "epoch = 500 ## the higher this number is the more accurate the prediction will be 10000 is a good number to set it at just takes a while to train\n",
        "history = model.fit(x_df, y_df, batch_size=1, nb_epoch=epoch)"
      ],
      "execution_count": 0,
      "outputs": []
    },
    {
      "metadata": {
        "id": "R18tpcbsgF8i",
        "colab_type": "text"
      },
      "cell_type": "markdown",
      "source": [
        "##6. Evaluate Model"
      ]
    },
    {
      "metadata": {
        "id": "F7VQSJ6YgH6I",
        "colab_type": "code",
        "colab": {}
      },
      "cell_type": "code",
      "source": [
        "#Visualize the model's training progress\n",
        "#History.history attribute is a record of training loss values and metrics values at successive epochs, as well as validation loss values and validation metrics values (if applicable)\n",
        "#https://www.tensorflow.org/api_docs/python/tf/keras/callbacks/History\n",
        "hist = pd.DataFrame(history.history)\n",
        "hist['epoch'] = history.epoch\n",
        "hist.tail()"
      ],
      "execution_count": 0,
      "outputs": []
    },
    {
      "metadata": {
        "id": "nmOsn_v-hKQi",
        "colab_type": "code",
        "colab": {}
      },
      "cell_type": "code",
      "source": [
        "import matplotlib.pyplot as plt\n",
        "#Is this model good? Visualize model performance,\n",
        "import matplotlib.pyplot as plt\n",
        "plt.figure()\n",
        "plt.xlabel('Epoch')\n",
        "plt.ylabel('Mean Abs Error [Out]')\n",
        "\n",
        "plt.plot(hist['epoch'], hist['loss'], label='Loss')\n",
        "\n",
        "plt.plot(hist['epoch'], hist['binary_accuracy'], label = 'binary_accuracy')\n",
        "plt.legend()\n",
        "plt.ylim([0,1.25])\n",
        "\n",
        "\"#Test model using the test data and evaluate\\n\",\n",
        "\"#Returns the loss value & metrics values for the model in test mode - https://www.tensorflow.org/api_docs/python/tf/keras/models/Model#evaluate\\n\",\n",
        "print(model.metrics_names)\n",
        "loss, ba = model.evaluate(x_df, y_df, verbose=0)\n",
        "print(\"Testing Loss/Error: {:5.2f} Out\".format(loss))"
      ],
      "execution_count": 0,
      "outputs": []
    },
    {
      "metadata": {
        "id": "dSIuhdr4hfD7",
        "colab_type": "text"
      },
      "cell_type": "markdown",
      "source": [
        "##7. Inference – Make Predictions"
      ]
    },
    {
      "metadata": {
        "id": "52qrfoj1hlhK",
        "colab_type": "code",
        "colab": {}
      },
      "cell_type": "code",
      "source": [
        "#Skip this step for model serving\n",
        "#Use test data to make predictions on trained model\n",
        "#Predict Generates output predictions for the input sample - https://www.tensorflow.org/api_docs/python/tf/keras/models/Model#predict\n",
        "#Then flatten numpy array result - https://www.tutorialspoint.com/numpy/numpy_ndarray_flatten.htm\n",
        "test_df = pd.DataFrame({'x1':[0.0,0.0, 1.0, 1.0],'x2':[0.0,1.0, 0.0, 1.0]})\n",
        "print ('Results of Model', model.predict(test_df).round())"
      ],
      "execution_count": 0,
      "outputs": []
    },
    {
      "metadata": {
        "id": "vQGBSU5fjcEP",
        "colab_type": "text"
      },
      "cell_type": "markdown",
      "source": [
        "#Deploy to ML Cloud Engine"
      ]
    },
    {
      "metadata": {
        "id": "IyEilxxHjkMQ",
        "colab_type": "text"
      },
      "cell_type": "markdown",
      "source": [
        "##8. Prepare Model for Saving"
      ]
    },
    {
      "metadata": {
        "id": "EE-5uYwUNXWX",
        "colab_type": "code",
        "colab": {}
      },
      "cell_type": "code",
      "source": [
        "# !rm -rf 1\n",
        "model.input\n",
        "model.output"
      ],
      "execution_count": 0,
      "outputs": []
    },
    {
      "metadata": {
        "id": "DYl0OilzjhHi",
        "colab_type": "code",
        "colab": {}
      },
      "cell_type": "code",
      "source": [
        "# Constants\n",
        "#https://www.tensorflow.org/guide/low_level_intro\n",
        "model_version = \"1\" #Change this to export different model versions, i.e. 2, ..., 7\n",
        "\n",
        "#setting values for the sake of saving the model in the proper format\n",
        "# http://amygdala.github.io/ml/tensorflow/cloud_ml_engine/2018/01/26/tf.html\n",
        "x = model.input\n",
        "y = model.output\n",
        "\n",
        "prediction_signature = tf.saved_model.signature_def_utils.predict_signature_def({\"inputs\":x}, {\"prediction\":y}) #for XOR model\n",
        "\n",
        "# valid_prediction_signature = tf.saved_model.signature_def_utils.is_valid_signature(prediction_signature)\n",
        "# if(valid_prediction_signature == False):\n",
        "#     raise ValueError(\"Error: Prediction signature not valid!\")\n",
        "\n",
        "builder = saved_model_builder.SavedModelBuilder('./'+ model_version)\n",
        "#legacy_init_op = tf.group(tf.tables_initializer(), name='legacy_init_op')\n",
        "#legacy_init_op = tf.group(tf.global_variables_initializer(), name='legacy_init_op')\n",
        "#legacy_init_op = tf.group(tf.tables_initializer(), name='legacy_init_op')\n",
        "\n",
        "#Add the meta_graph and the variables to the builder\n",
        "#RefL https://www.tensorflow.org/api_docs/python/tf/saved_model/Builder#add_meta_graph\n",
        "#https://www.tensorflow.org/versions/r1.12/api_docs/python/tf/saved_model/main_op\n",
        "builder.add_meta_graph_and_variables(\n",
        "      sess, [tag_constants.SERVING],\n",
        "      signature_def_map={\n",
        "           signature_constants.DEFAULT_SERVING_SIGNATURE_DEF_KEY:prediction_signature,\n",
        "      },\n",
        "      main_op=tf.tables_initializer())\n",
        "      #legacy_init_op=legacy_init_op)\n",
        "\n",
        "# save the graph\n",
        "builder.save()"
      ],
      "execution_count": 0,
      "outputs": []
    },
    {
      "metadata": {
        "id": "QQZq7Iihkmna",
        "colab_type": "text"
      },
      "cell_type": "markdown",
      "source": [
        "##9. Upload model to existing GCS bucket"
      ]
    },
    {
      "metadata": {
        "id": "2iUCrvgJkofZ",
        "colab_type": "code",
        "colab": {}
      },
      "cell_type": "code",
      "source": [
        "#https://colab.research.google.com/notebooks/io.ipynb#scrollTo=xM70QWdxeE7q\n",
        "from google.colab import auth\n",
        "auth.authenticate_user()\n",
        "\n",
        "# Existing bucket name\n",
        "# (GCS buckets are part of a single global namespace.)\n",
        "bucket_name = ''  #INSERT YOUR BUCKET NAME HERE!!\n",
        "\n",
        "# Copy the model directory to our new bucket.\n",
        "# Full reference: https://cloud.google.com/storage/docs/gsutil/commands/cp\n",
        "!gsutil cp -r 1/. gs://{bucket_name}/"
      ],
      "execution_count": 0,
      "outputs": []
    },
    {
      "metadata": {
        "id": "a8QwgebJlWSa",
        "colab_type": "text"
      },
      "cell_type": "markdown",
      "source": [
        "##Upload GOOGLE_APPLICATION_CREDENTIALS\n"
      ]
    },
    {
      "metadata": {
        "id": "h4v_y0zWlXcE",
        "colab_type": "code",
        "colab": {}
      },
      "cell_type": "code",
      "source": [
        "#Upload GOOGLE_APPLICATION_CREDENTIALS json file from local computer and save to this notebook\n",
        "from google.colab import files\n",
        "\n",
        "uploaded = files.upload()\n",
        "\n",
        "for fn in uploaded.keys():\n",
        "  print('User uploaded file \"{name}\" with length {length} bytes'.format(\n",
        "      name=fn, length=len(uploaded[fn])))"
      ],
      "execution_count": 0,
      "outputs": []
    },
    {
      "metadata": {
        "id": "gvuaiQutlieW",
        "colab_type": "text"
      },
      "cell_type": "markdown",
      "source": [
        "##Set GOOGLE_APPLICATION_CREDENTIALS environment variable"
      ]
    },
    {
      "metadata": {
        "id": "kBJlnOKnljeX",
        "colab_type": "code",
        "colab": {}
      },
      "cell_type": "code",
      "source": [
        "import os\n",
        "os.environ['GOOGLE_APPLICATION_CREDENTIALS'] = '' #INSERT YOUR CREDENTIALS FILENAME HERE!!"
      ],
      "execution_count": 0,
      "outputs": []
    },
    {
      "metadata": {
        "id": "tHe2eUNhl6AW",
        "colab_type": "text"
      },
      "cell_type": "markdown",
      "source": [
        "##10. Request online prediction from deployed model"
      ]
    },
    {
      "metadata": {
        "id": "J1I06jxFl87i",
        "colab_type": "code",
        "colab": {}
      },
      "cell_type": "code",
      "source": [
        "import googleapiclient \n",
        "from googleapiclient import discovery\n",
        "from googleapiclient import errors\n",
        "\n",
        "#Setup online cloud model\n",
        "#https://cloud.google.com/ml-engine/docs/tensorflow/online-predict#requesting_predictions\n",
        "#https://cloud.google.com/ml-engine/docs/v1/predict-request\n",
        "# https://cloud.google.com/ml-engine/docs/tensorflow/python-client-library\n",
        "#https://www.raspberrypi.org/magpi/tensorflow-ai-raspberry-pi/\n",
        "#https://playground.tensorflow.org/#activation=tanh&batchSize=10&dataset=circle&regDataset=reg-plane&learningRate=0.03&regularizationRate=0&noise=0&networkShape=4,2&seed=0.98614&showTestData=false&discretize=false&percTrainData=50&x=true&y=true&xTimesY=false&xSquared=false&ySquared=false&cosX=false&sinX=false&cosY=false&sinY=false&collectStats=false&problem=classification&initZero=false&hideText=false\n",
        "#https://stackoverflow.com/questions/45705070/how-to-load-and-use-a-saved-model-on-tensorflo\n",
        "\n",
        "\n",
        "# Create the ML Engine service object.\n",
        "# To authenticate set the environment variable\n",
        "# GOOGLE_APPLICATION_CREDENTIALS=<path_to_service_account_file>\n",
        "#name = 'projects/{}/models/{}'.format(Project ID,  MODEL_NAME)\n",
        "service = googleapiclient.discovery.build('ml', 'v1')\n",
        "name = 'projects/{}/models/{}'.format(Project ID,  MODEL_NAME) #INSERT YOUR PROJECT ID AND NAME HERE!!\n",
        "\n",
        "#if version is not None:\n",
        "name += '/versions/{}'.format(MODEL_VERSION_NAME) #INSERT YOUR MODEL VERSION NAME HERE!!\n",
        "#name += '/versions/{}'.format('XOR_Version_1')\n",
        " \n",
        "print(name)\n",
        "\n",
        "response = service.projects().predict(\n",
        "    name=name,    \n",
        "    body={\"instances\": [{\"inputs\": [1.0,1.0]}, {\"inputs\": [0.0,0.0]}, {\"inputs\": [1.0,0.0]}]} #this WORKS! with the XOR model\n",
        ").execute()\n",
        "\n",
        "# if 'error' in response:\n",
        "#     raise RuntimeError(response['error'])\n",
        "response\n",
        "#np.round(response['predictions'][0]['prediction'])\n",
        "#response['predictions'][0]['prediction']"
      ],
      "execution_count": 0,
      "outputs": []
    }
  ]
}